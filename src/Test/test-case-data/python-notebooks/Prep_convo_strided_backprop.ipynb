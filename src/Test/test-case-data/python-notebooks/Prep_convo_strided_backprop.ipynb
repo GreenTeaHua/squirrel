{
 "cells": [
  {
   "cell_type": "code",
   "execution_count": 1,
   "metadata": {
    "collapsed": true
   },
   "outputs": [],
   "source": [
    "import numpy as np"
   ]
  },
  {
   "cell_type": "code",
   "execution_count": 2,
   "metadata": {
    "collapsed": false
   },
   "outputs": [
    {
     "data": {
      "text/plain": [
       "array([[[1111, 1121, 1131, 1141, 1151, 1161],\n",
       "        [1112, 1122, 1132, 1142, 1152, 1162],\n",
       "        [1113, 1123, 1133, 1143, 1153, 1163],\n",
       "        [1114, 1124, 1134, 1144, 1154, 1164],\n",
       "        [1115, 1125, 1135, 1145, 1155, 1165],\n",
       "        [1116, 1126, 1136, 1146, 1156, 1166]],\n",
       "\n",
       "       [[1211, 1221, 1231, 1241, 1251, 1261],\n",
       "        [1212, 1222, 1232, 1242, 1252, 1262],\n",
       "        [1213, 1223, 1233, 1243, 1253, 1263],\n",
       "        [1214, 1224, 1234, 1244, 1254, 1264],\n",
       "        [1215, 1225, 1235, 1245, 1255, 1265],\n",
       "        [1216, 1226, 1236, 1246, 1256, 1266]],\n",
       "\n",
       "       [[1311, 1321, 1331, 1341, 1351, 1361],\n",
       "        [1312, 1322, 1332, 1342, 1352, 1362],\n",
       "        [1313, 1323, 1333, 1343, 1353, 1363],\n",
       "        [1314, 1324, 1334, 1344, 1354, 1364],\n",
       "        [1315, 1325, 1335, 1345, 1355, 1365],\n",
       "        [1316, 1326, 1336, 1346, 1356, 1366]]])"
      ]
     },
     "execution_count": 2,
     "metadata": {},
     "output_type": "execute_result"
    }
   ],
   "source": [
    "# will return set of images of cardinality = num, each image has channels=3, width=3, height = 4\n",
    "def get_set(num, w, h):\n",
    "    set_ = []\n",
    "    for i in xrange(num):\n",
    "        image = []\n",
    "        for j in xrange(3):\n",
    "            channel = []\n",
    "            for k in xrange(w):\n",
    "                col = []\n",
    "                for l in xrange(h):\n",
    "                    col.append((i+1) * 1000 + (j+1) * 100 + (k+1) * 10 + (l+1))\n",
    "                channel.append(col)\n",
    "            channel = np.array(channel).transpose()\n",
    "            image.append(channel)\n",
    "        set_.append(image)\n",
    "    set_=np.array(set_)\n",
    "    return set_\n",
    "set_ = get_set(8, 6, 6)\n",
    "set_[0]"
   ]
  },
  {
   "cell_type": "code",
   "execution_count": 3,
   "metadata": {
    "collapsed": false
   },
   "outputs": [
    {
     "data": {
      "text/plain": [
       "array([[1, 2, 1, 2, 1, 1],\n",
       "       [2, 4, 2, 4, 2, 2],\n",
       "       [1, 2, 1, 2, 1, 1],\n",
       "       [2, 4, 2, 4, 2, 2],\n",
       "       [1, 2, 1, 2, 1, 1],\n",
       "       [1, 2, 1, 2, 1, 1]])"
      ]
     },
     "execution_count": 3,
     "metadata": {},
     "output_type": "execute_result"
    }
   ],
   "source": [
    "#mask shows how prepare convolution produce matrix of neighbourhood for one channel\n",
    "mask = np.array([[00,00,00,00,11,12,00,21,22],\n",
    "                 [00,00,00,12,13,14,22,23,24],\n",
    "                 [00,00,00,14,15,16,24,25,26],\n",
    "                 [00,21,22,00,31,32,00,41,42],\n",
    "                 [22,23,24,32,33,34,42,43,44],\n",
    "                 [24,25,26,34,35,36,44,45,46],\n",
    "                 [00,41,42,00,51,52,00,61,62],\n",
    "                 [42,43,44,52,53,54,62,63,64],\n",
    "                 [44,45,46,54,55,56,64,65,66]])\n",
    "#how channel look like\n",
    "channel = [[11, 21, 31, 41, 51, 61],\n",
    "           [12, 22, 32, 42, 52, 62],\n",
    "           [13, 23, 33, 43, 53, 63],\n",
    "           [14, 24, 34, 44, 54, 64],\n",
    "           [15, 25, 35, 45, 55, 65],\n",
    "           [16, 26, 36, 46, 56, 66]]\n",
    "#result mask will count the occurances for each element of channel in prepared convolution matrix\n",
    "result_mask = []\n",
    "for row in channel:\n",
    "    result_row = []\n",
    "    for elem in row:\n",
    "        result_row.append(np.sum((mask==elem).astype(np.int32)))\n",
    "    result_mask.append(result_row)\n",
    "result_mask = np.array(result_mask)\n",
    "result_mask"
   ]
  },
  {
   "cell_type": "code",
   "execution_count": 6,
   "metadata": {
    "collapsed": false
   },
   "outputs": [],
   "source": [
    "#this block prepare result for backpropogation of prepare convolution same\n",
    "set_result = []\n",
    "for image in set_:\n",
    "    image_result = []\n",
    "    for channel in image:\n",
    "        image_result.append(np.multiply(channel, result_mask))\n",
    "    set_result.append(image_result)\n",
    "set_result = np.array(set_result)"
   ]
  },
  {
   "cell_type": "code",
   "execution_count": 7,
   "metadata": {
    "collapsed": true
   },
   "outputs": [],
   "source": [
    "# block will create input matrix of size (3*6*6, num) where 3*6*6 is size of each image and num is number of images \n",
    "\n",
    "def convert_channel_to_column(channel):\n",
    "    return np.ravel(channel, order='F')\n",
    "\n",
    "def convert_image_to_column(image):\n",
    "    result = []\n",
    "    for channel in image:\n",
    "        result += convert_channel_to_column(channel).tolist()\n",
    "    return result\n",
    "\n",
    "def convert_set_to_matrix(set_):\n",
    "    result = []\n",
    "    for image in set_:\n",
    "        result += convert_image_to_column(image)\n",
    "    return np.reshape(np.array(result), [3*6*6, set_.shape[0]], order='F')\n",
    "                       \n",
    "output_matrix = convert_set_to_matrix(set_result)"
   ]
  },
  {
   "cell_type": "code",
   "execution_count": 8,
   "metadata": {
    "collapsed": true
   },
   "outputs": [],
   "source": [
    "np.savetxt('/home/ahsan/squirrel_latest/squirrel/trunk/src/Test/test-case-data/prepare-conv-strided-same-back-r.txt', output_matrix, fmt='%i', delimiter=' ', header='108 8')"
   ]
  },
  {
   "cell_type": "code",
   "execution_count": null,
   "metadata": {
    "collapsed": true
   },
   "outputs": [],
   "source": []
  }
 ],
 "metadata": {
  "kernelspec": {
   "display_name": "Python 2",
   "language": "python",
   "name": "python2"
  },
  "language_info": {
   "codemirror_mode": {
    "name": "ipython",
    "version": 2
   },
   "file_extension": ".py",
   "mimetype": "text/x-python",
   "name": "python",
   "nbconvert_exporter": "python",
   "pygments_lexer": "ipython2",
   "version": "2.7.6"
  }
 },
 "nbformat": 4,
 "nbformat_minor": 0
}
