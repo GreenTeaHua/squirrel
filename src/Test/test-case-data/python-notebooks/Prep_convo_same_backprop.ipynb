{
 "cells": [
  {
   "cell_type": "code",
   "execution_count": 1,
   "metadata": {
    "collapsed": true
   },
   "outputs": [],
   "source": [
    "import numpy as np "
   ]
  },
  {
   "cell_type": "code",
   "execution_count": 2,
   "metadata": {
    "collapsed": true
   },
   "outputs": [],
   "source": [
    "# will return set of images of cardinality = num, each image has channels=3, width=3, height = 4\n",
    "def get_set(num):\n",
    "    set_ = []\n",
    "    for i in xrange(num):\n",
    "        image = []\n",
    "        for j in xrange(3):\n",
    "            channel = []\n",
    "            for k in xrange(3):\n",
    "                col = []\n",
    "                for l in xrange(4):\n",
    "                    col.append((i+1) * 1000 + (j+1) * 100 + (k+1) * 10 + (l+1))\n",
    "                channel.append(col)\n",
    "            channel = np.array(channel).transpose()\n",
    "            image.append(channel)\n",
    "        set_.append(image)\n",
    "    set_=np.array(set_)\n",
    "    return set_\n",
    "set_ = get_set(8)"
   ]
  },
  {
   "cell_type": "code",
   "execution_count": 3,
   "metadata": {
    "collapsed": false
   },
   "outputs": [],
   "source": [
    "#mask shows how prepare convolution produce matrix of neighbourhood for one channel\n",
    "mask = np.array([[00,00,00,00,11,12,00,21,22],\n",
    "                 [00,00,00,11,12,13,21,22,23],\n",
    "                 [00,00,00,12,13,14,22,23,24],\n",
    "                 [00,00,00,13,14,00,23,24,00],\n",
    "                 [00,11,12,00,21,22,00,31,32],\n",
    "                 [11,12,13,21,22,23,31,32,33],\n",
    "                 [12,13,14,22,23,24,32,33,34],\n",
    "                 [13,14,00,23,24,00,33,34,00],\n",
    "                 [00,21,22,00,31,32,00,00,00],\n",
    "                 [21,22,23,31,32,33,00,00,00],\n",
    "                 [22,23,24,32,33,34,00,00,00],\n",
    "                 [23,24,00,33,34,00,00,00,00]])\n",
    "#how channel look like\n",
    "channel = [[11, 21, 31],\n",
    "           [12, 22, 32],\n",
    "           [13, 23, 33],\n",
    "           [14, 24, 34]]\n",
    "#result mask will count the occurances for each element of channel in prepared convolution matrix\n",
    "result_mask = []\n",
    "for row in channel:\n",
    "    result_row = []\n",
    "    for elem in row:\n",
    "        result_row.append(np.sum((mask==elem).astype(np.int32)))\n",
    "    result_mask.append(result_row)\n",
    "result_mask = np.array(result_mask)"
   ]
  },
  {
   "cell_type": "code",
   "execution_count": 4,
   "metadata": {
    "collapsed": false
   },
   "outputs": [],
   "source": [
    "#this block prepare result for backpropogation of prepare convolution same\n",
    "set_result = []\n",
    "for image in set_:\n",
    "    image_result = []\n",
    "    for channel in image:\n",
    "        image_result.append(np.multiply(channel, result_mask))\n",
    "    set_result.append(image_result)\n",
    "set_result = np.array(set_result)\n",
    "\n",
    "    "
   ]
  },
  {
   "cell_type": "code",
   "execution_count": 5,
   "metadata": {
    "collapsed": false
   },
   "outputs": [],
   "source": [
    "# block will create input matrix of size (3*3*4, num) where 3*3*4 is size of each image and num is number of images \n",
    "\n",
    "def convert_channel_to_column(channel):\n",
    "    return np.ravel(channel, order='F')\n",
    "\n",
    "def convert_image_to_column(image):\n",
    "    result = []\n",
    "    for channel in image:\n",
    "        result += convert_channel_to_column(channel).tolist()\n",
    "    return result\n",
    "\n",
    "def convert_set_to_matrix(set_):\n",
    "    result = []\n",
    "    for image in set_:\n",
    "        result += convert_image_to_column(image)\n",
    "    return np.reshape(np.array(result), [3*3*4, set_.shape[0]], order='F')\n",
    "                       \n",
    "output_matrix = convert_set_to_matrix(set_result)"
   ]
  },
  {
   "cell_type": "code",
   "execution_count": 6,
   "metadata": {
    "collapsed": true
   },
   "outputs": [],
   "source": [
    "np.savetxt('/home/ahsan/squirrel_latest/squirrel/trunk/src/Test/test-case-data/prepare-conv-same-back-r.txt', output_matrix, fmt='%i', delimiter=' ', header='36 8')"
   ]
  },
  {
   "cell_type": "code",
   "execution_count": null,
   "metadata": {
    "collapsed": true
   },
   "outputs": [],
   "source": []
  }
 ],
 "metadata": {
  "kernelspec": {
   "display_name": "Python 2",
   "language": "python",
   "name": "python2"
  },
  "language_info": {
   "codemirror_mode": {
    "name": "ipython",
    "version": 2
   },
   "file_extension": ".py",
   "mimetype": "text/x-python",
   "name": "python",
   "nbconvert_exporter": "python",
   "pygments_lexer": "ipython2",
   "version": "2.7.6"
  }
 },
 "nbformat": 4,
 "nbformat_minor": 0
}
