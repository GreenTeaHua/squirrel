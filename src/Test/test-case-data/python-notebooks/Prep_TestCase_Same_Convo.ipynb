{
 "cells": [
  {
   "cell_type": "code",
   "execution_count": 1,
   "metadata": {
    "collapsed": true
   },
   "outputs": [],
   "source": [
    "import numpy as np"
   ]
  },
  {
   "cell_type": "code",
   "execution_count": 2,
   "metadata": {
    "collapsed": false
   },
   "outputs": [
    {
     "data": {
      "text/plain": [
       "array([[[1111, 1121, 1131],\n",
       "        [1112, 1122, 1132],\n",
       "        [1113, 1123, 1133],\n",
       "        [1114, 1124, 1134]],\n",
       "\n",
       "       [[1211, 1221, 1231],\n",
       "        [1212, 1222, 1232],\n",
       "        [1213, 1223, 1233],\n",
       "        [1214, 1224, 1234]],\n",
       "\n",
       "       [[1311, 1321, 1331],\n",
       "        [1312, 1322, 1332],\n",
       "        [1313, 1323, 1333],\n",
       "        [1314, 1324, 1334]]])"
      ]
     },
     "execution_count": 2,
     "metadata": {},
     "output_type": "execute_result"
    }
   ],
   "source": [
    "# will return set of images of cardinality = num, each image has channels=3, width=3, height = 4\n",
    "def get_set(num):\n",
    "    set_ = []\n",
    "    for i in xrange(num):\n",
    "        image = []\n",
    "        for j in xrange(3):\n",
    "            channel = []\n",
    "            for k in xrange(3):\n",
    "                col = []\n",
    "                for l in xrange(4):\n",
    "                    col.append((i+1) * 1000 + (j+1) * 100 + (k+1) * 10 + (l+1))\n",
    "                channel.append(col)\n",
    "            channel = np.array(channel).transpose()\n",
    "            image.append(channel)\n",
    "        set_.append(image)\n",
    "    set_=np.array(set_)\n",
    "    return set_\n",
    "set_ = get_set(8)"
   ]
  },
  {
   "cell_type": "code",
   "execution_count": null,
   "metadata": {
    "collapsed": true
   },
   "outputs": [],
   "source": []
  },
  {
   "cell_type": "code",
   "execution_count": null,
   "metadata": {
    "collapsed": false
   },
   "outputs": [],
   "source": [
    "# mask will create matrix if of size (3*4 x 27), where 3*4 are the pixels in result image and 27=3*9 \n",
    "# where 3 is input channels and 9 is kernel size \n",
    "mask = np.array([[000,000,000,000,111,112,000,121,122,000,000,000,000,211,212,000,221,222,000,000,000,000,311,312,000,321,322],\n",
    "                 [000,000,000,111,112,113,121,122,123,000,000,000,211,212,213,221,222,223,000,000,000,311,312,313,321,322,323],\n",
    "                 [000,000,000,112,113,114,122,123,124,000,000,000,212,213,214,222,223,224,000,000,000,312,313,314,322,323,324],\n",
    "                 [000,000,000,113,114,000,123,124,000,000,000,000,213,214,000,223,224,000,000,000,000,313,314,000,323,324,000],\n",
    "                 [000,111,112,000,121,122,000,131,132,000,211,212,000,221,222,000,231,232,000,311,312,000,321,322,000,331,332],\n",
    "                 [111,112,113,121,122,123,131,132,133,211,212,213,221,222,223,231,232,233,311,312,313,321,322,323,331,332,333],\n",
    "                 [112,113,114,122,123,124,132,133,134,212,213,214,222,223,224,232,233,234,312,313,314,322,323,324,332,333,334],\n",
    "                 [113,114,000,123,124,000,133,134,000,213,214,000,223,224,000,233,234,000,313,314,000,323,324,000,333,334,000],\n",
    "                 [000,121,122,000,131,132,000,000,000,000,221,222,000,231,232,000,000,000,000,321,322,000,331,332,000,000,000],\n",
    "                 [121,122,123,131,132,133,000,000,000,221,222,223,231,232,233,000,000,000,321,322,323,331,332,333,000,000,000],\n",
    "                 [122,123,124,132,133,134,000,000,000,222,223,224,232,233,234,000,000,000,322,323,324,332,333,334,000,000,000],\n",
    "                 [123,124,000,133,134,000,000,000,000,223,224,000,233,234,000,000,000,000,323,324,000,333,334,000,000,000,000]])\n"
   ]
  },
  {
   "cell_type": "code",
   "execution_count": null,
   "metadata": {
    "collapsed": false
   },
   "outputs": [],
   "source": [
    "# block will create input matrix of size (3*3*4, num) where 3*3*4 is size of each image and num is number of images \n",
    "\n",
    "def convert_channel_to_column(channel):\n",
    "    return np.ravel(channel, order='F')\n",
    "\n",
    "def convert_image_to_column(image):\n",
    "    result = []\n",
    "    for channel in image:\n",
    "        result += convert_channel_to_column(channel).tolist()\n",
    "    return result\n",
    "\n",
    "def convert_set_to_matrix(set_):\n",
    "    result = []\n",
    "    for image in set_:\n",
    "        result += convert_image_to_column(image)\n",
    "    return np.reshape(np.array(result), [3*3*4, set_.shape[0]], order='F')\n",
    "                       \n",
    "input_matrix = convert_set_to_matrix(set_)\n",
    "    "
   ]
  },
  {
   "cell_type": "code",
   "execution_count": null,
   "metadata": {
    "collapsed": false
   },
   "outputs": [],
   "source": [
    "# block will create output matrix of size (3*4*3*9, num) where 3*4 is size of image in result and 3 is number of input \n",
    "# channels and 9 is kernel size\n",
    "\n",
    "def create_output_per_image(index, mask):\n",
    "    result = []\n",
    "    for elem in mask:\n",
    "        if elem != 0:\n",
    "            elem = elem + 1000*index\n",
    "        result.append(elem)\n",
    "    return result\n",
    "\n",
    "def create_output_of_set(set_, mask):\n",
    "    result = []\n",
    "    for idx, image in enumerate(set_):\n",
    "        result += create_output_per_image(idx+1, mask)\n",
    "    return np.reshape(np.array(result), [3*4*3*9, set_.shape[0]], order='F')\n",
    "\n",
    "output_matrix = create_output_of_set(set_, np.ravel(mask).tolist())"
   ]
  },
  {
   "cell_type": "code",
   "execution_count": null,
   "metadata": {
    "collapsed": true
   },
   "outputs": [],
   "source": [
    "np.savetxt('/home/ahsan/squirrel_latest/squirrel/trunk/src/Test/test-case-data/prepare-conv-same-forw-i.txt', input_matrix, fmt='%i', delimiter=' ', header='36 8')\n",
    "np.savetxt('/home/ahsan/squirrel_latest/squirrel/trunk/src/Test/test-case-data/prepare-conv-same-forw-r.txt', output_matrix, fmt='%i', delimiter=' ', header='324 8')"
   ]
  },
  {
   "cell_type": "code",
   "execution_count": null,
   "metadata": {
    "collapsed": true
   },
   "outputs": [],
   "source": []
  }
 ],
 "metadata": {
  "kernelspec": {
   "display_name": "Python 2",
   "language": "python",
   "name": "python2"
  },
  "language_info": {
   "codemirror_mode": {
    "name": "ipython",
    "version": 2
   },
   "file_extension": ".py",
   "mimetype": "text/x-python",
   "name": "python",
   "nbconvert_exporter": "python",
   "pygments_lexer": "ipython2",
   "version": "2.7.6"
  }
 },
 "nbformat": 4,
 "nbformat_minor": 0
}
