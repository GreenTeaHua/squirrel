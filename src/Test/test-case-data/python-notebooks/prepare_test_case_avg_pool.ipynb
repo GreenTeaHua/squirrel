{
 "cells": [
  {
   "cell_type": "code",
   "execution_count": 1,
   "metadata": {
    "collapsed": true
   },
   "outputs": [],
   "source": [
    "import numpy as np"
   ]
  },
  {
   "cell_type": "code",
   "execution_count": 2,
   "metadata": {
    "collapsed": false
   },
   "outputs": [],
   "source": [
    "def get_set(num, w, h):\n",
    "    set_ = []\n",
    "    for i in xrange(num):\n",
    "        image = []\n",
    "        for j in xrange(3):\n",
    "            channel = []\n",
    "            for k in xrange(w):\n",
    "                col = []\n",
    "                for l in xrange(h):\n",
    "                    col.append( (j+1) * 100 + (k+1) * 10 + (l+1))\n",
    "                channel.append(col)\n",
    "            channel = np.array(channel).transpose()\n",
    "            image.append(channel)\n",
    "        set_.append(image)\n",
    "    set_=np.array(set_)\n",
    "    return set_\n",
    "set_ = get_set(1, 5, 5)"
   ]
  },
  {
   "cell_type": "code",
   "execution_count": 3,
   "metadata": {
    "collapsed": false
   },
   "outputs": [],
   "source": [
    "avg_pool_output = np.array([[[[116.5, 136.5, 151.5],\n",
    "                             [118.5, 138.5, 153.5],\n",
    "                             [120.0, 140.0, 155.0]],\n",
    "                   \n",
    "                            [[216.5, 236.5, 251.5],\n",
    "                             [218.5, 238.5, 253.5],\n",
    "                             [220.0, 240.0, 255.0]],\n",
    " \n",
    "                            [[316.5, 336.5, 351.5],\n",
    "                             [318.5, 338.5, 353.5],\n",
    "                             [320.0, 340.0, 355.0]]]])"
   ]
  },
  {
   "cell_type": "code",
   "execution_count": 4,
   "metadata": {
    "collapsed": false
   },
   "outputs": [],
   "source": [
    "def convert_channel_to_column(channel):\n",
    "    return np.ravel(channel, order='F')\n",
    "\n",
    "def convert_image_to_column(image):\n",
    "    result = []\n",
    "    for channel in image:\n",
    "        result += convert_channel_to_column(channel).tolist()\n",
    "    return result\n",
    "\n",
    "def convert_set_to_matrix(set_, channels, width, height):\n",
    "    result = []\n",
    "    for image in set_:\n",
    "        result += convert_image_to_column(image)\n",
    "    return np.reshape(np.array(result), [channels * width * height, set_.shape[0]], order='F')\n",
    "\n",
    "def create_batch(set_, channels, width, height):\n",
    "    A = convert_set_to_matrix(set_, channels, width, height)\n",
    "    B = np.concatenate((A,A), axis=1)\n",
    "    B = np.concatenate((B,A), axis=1)\n",
    "    B = np.concatenate((B,A), axis=1)\n",
    "    B = np.concatenate((B,A), axis=1)\n",
    "    B = np.concatenate((B,A), axis=1)\n",
    "    B = np.concatenate((B,A), axis=1)\n",
    "    B = np.concatenate((B,A), axis=1)\n",
    "    return B\n",
    "\n",
    "input_matrix = create_batch(set_, 3, 5, 5)\n",
    "output_matrix = create_batch(avg_pool_output, 3, 3, 3)"
   ]
  },
  {
   "cell_type": "code",
   "execution_count": 27,
   "metadata": {
    "collapsed": true
   },
   "outputs": [],
   "source": [
    "np.savetxt('/home/ahsan/squirrel_latest/squirrel/trunk/src/Test/test-case-data/avgpool-forw-i.txt', input_matrix, fmt='%.1f', delimiter=' ', header='75 8')\n",
    "np.savetxt('/home/ahsan/squirrel_latest/squirrel/trunk/src/Test/test-case-data/avgpool-forw-r.txt', output_matrix, fmt='%.1f',delimiter=' ', header='27 8')"
   ]
  },
  {
   "cell_type": "code",
   "execution_count": 7,
   "metadata": {
    "collapsed": false
   },
   "outputs": [],
   "source": [
    "back_set = np.array([[[[116.5, 116.5, 136.5, 136.5, 151.5],\n",
    "                       [116.5, 116.5, 136.5, 136.5, 151.5],\n",
    "                       [118.5, 118.5, 138.5, 138.5, 153.5],\n",
    "                       [118.5, 118.5, 138.5, 138.5, 153.5],\n",
    "                       [120.0, 120.0, 140.0, 140.0, 155.0]],\n",
    " \n",
    "                      [[216.5, 216.5, 236.5, 236.5, 251.5],\n",
    "                       [216.5, 216.5, 236.5, 236.5, 251.5],\n",
    "                       [218.5, 218.5, 238.5, 238.5, 253.5],\n",
    "                       [218.5, 218.5, 238.5, 238.5, 253.5],\n",
    "                       [220.0, 220.0, 240.0, 240.0, 255.0]],\n",
    "\n",
    "                      [[316.5, 316.5, 336.5, 336.5, 351.5],\n",
    "                       [316.5, 316.5, 336.5, 336.5, 351.5],\n",
    "                       [318.5, 318.5, 338.5, 338.5, 353.5],\n",
    "                       [318.5, 318.5, 338.5, 338.5, 353.5],\n",
    "                       [320.0, 320.0, 340.0, 340.0, 355.0]]]])\n",
    "\n",
    "\n",
    "output_matrix = create_batch(back_set, 3, 5, 5)\n",
    "np.savetxt('/home/ahsan/squirrel_latest/squirrel/trunk/src/Test/test-case-data/avgpool-back-r.txt', output_matrix, fmt='%.3f',delimiter=' ', header='75 8')"
   ]
  },
  {
   "cell_type": "code",
   "execution_count": null,
   "metadata": {
    "collapsed": true
   },
   "outputs": [],
   "source": []
  }
 ],
 "metadata": {
  "kernelspec": {
   "display_name": "Python 2",
   "language": "python",
   "name": "python2"
  },
  "language_info": {
   "codemirror_mode": {
    "name": "ipython",
    "version": 2
   },
   "file_extension": ".py",
   "mimetype": "text/x-python",
   "name": "python",
   "nbconvert_exporter": "python",
   "pygments_lexer": "ipython2",
   "version": "2.7.6"
  }
 },
 "nbformat": 4,
 "nbformat_minor": 0
}
